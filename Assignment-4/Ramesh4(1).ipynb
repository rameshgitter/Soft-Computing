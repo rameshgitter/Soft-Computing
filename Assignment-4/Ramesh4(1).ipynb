{
  "nbformat": 4,
  "nbformat_minor": 0,
  "metadata": {
    "colab": {
      "provenance": []
    },
    "kernelspec": {
      "name": "python3",
      "display_name": "Python 3"
    },
    "language_info": {
      "name": "python"
    }
  },
  "cells": [
    {
      "cell_type": "markdown",
      "source": [
        "\n",
        "\n",
        "---\n",
        "\n",
        "# 🌟 Ramesh Chandra Soren\n",
        "### 📚 Enrollment No: **2022CSB086**\n",
        "### 🏫 Department: **Computer Science and Technology**\n"
      ],
      "metadata": {
        "id": "_hoZS8-vy9-g"
      }
    },
    {
      "cell_type": "markdown",
      "source": [
        "# Logistic Regression on Breast Cancer Wisconsin Dataset\n",
        "\n",
        "## Overview\n",
        "This code implements logistic regression using the sigmoid activation function to classify breast cancer cases as malignant or benign.\n",
        "\n",
        "## Dataset\n",
        "- **Source**: Breast Cancer Wisconsin Dataset\n",
        "- **Split**:\n",
        " - Training: 70%\n",
        " - Testing: 30%"
      ],
      "metadata": {
        "id": "UF_sWv79zLg1"
      }
    },
    {
      "cell_type": "code",
      "source": [
        "import pandas as pd\n",
        "from sklearn.model_selection import train_test_split\n",
        "\n",
        "# Define column names based on the attribute information provided\n",
        "column_names = [\n",
        "    'Class', 'Age', 'Menopause', 'Tumor-Size', 'Inv-Nodes', 'Node-Caps',\n",
        "    'Deg-Malig', 'Breast', 'Breast-Quad', 'Irradiat'\n",
        "]\n",
        "\n",
        "# Load the dataset from a local file (adjust the path accordingly)\n",
        "file_path = 'breast-cancer.data'  # Replace this with your actual file path\n",
        "df = pd.read_csv(file_path, header=None, names=column_names)\n",
        "\n",
        "# Handle missing values (replace \"?\" with NaN)\n",
        "df.replace(\"?\", pd.NA, inplace=True)\n",
        "\n",
        "# Drop rows with missing values or handle them appropriately\n",
        "df.dropna(inplace=True)  # You can also use imputation techniques instead of dropping\n",
        "\n",
        "# Convert categorical columns to numeric values (encoding)\n",
        "df['Class'] = df['Class'].map({'no-recurrence-events': 0, 'recurrence-events': 1})\n",
        "df['Node-Caps'] = df['Node-Caps'].map({'yes': 1, 'no': 0})\n",
        "df['Irradiat'] = df['Irradiat'].map({'yes': 1, 'no': 0})\n",
        "\n",
        "# For other categorical features, use one-hot encoding\n",
        "df = pd.get_dummies(df, columns=['Age', 'Menopause', 'Tumor-Size', 'Inv-Nodes', 'Breast', 'Breast-Quad'], drop_first=True)\n",
        "\n",
        "# Split data into features (X) and labels (y)\n",
        "X = df.drop('Class', axis=1)  # Features\n",
        "y = df['Class']              # Labels\n",
        "\n",
        "# Split dataset into training (70%) and testing (30%) sets\n",
        "X_train, X_test, y_train, y_test = train_test_split(X, y, test_size=0.3, random_state=42)\n",
        "\n",
        "# Print the shape of the training and testing sets\n",
        "print(f\"Training set shape: {X_train.shape}\")\n",
        "print(f\"Testing set shape: {X_test.shape}\")\n"
      ],
      "metadata": {
        "colab": {
          "base_uri": "https://localhost:8080/"
        },
        "id": "cxbq1Om0W87y",
        "outputId": "f67c02c5-2f6e-41bf-fb2b-d7665895b06b"
      },
      "execution_count": null,
      "outputs": [
        {
          "output_type": "stream",
          "name": "stdout",
          "text": [
            "Training set shape: (193, 31)\n",
            "Testing set shape: (84, 31)\n"
          ]
        }
      ]
    },
    {
      "cell_type": "markdown",
      "source": [
        "# Model Implementation"
      ],
      "metadata": {
        "id": "tQCRlxf_zWAa"
      }
    },
    {
      "cell_type": "markdown",
      "source": [
        "## Implementation Steps\n",
        "\n",
        "1. Load and preprocess the dataset\n",
        "2. Split data into training and testing sets\n",
        "3. Initialize model parameters\n",
        "4. Define activation and error functions\n",
        "5. Train the model\n",
        "6. Evaluate performance\n"
      ],
      "metadata": {
        "id": "l-uh3tWSz-rx"
      }
    },
    {
      "cell_type": "markdown",
      "source": [
        "### 1. Initialization\n",
        "- Weights and biases are initialized randomly"
      ],
      "metadata": {
        "id": "n164qevAzb7x"
      }
    },
    {
      "cell_type": "code",
      "source": [
        "import numpy as np\n",
        "\n",
        "# Set random seed for reproducibility\n",
        "np.random.seed(42)\n",
        "\n",
        "# Define the number of input features (30), hidden neurons, and output neurons\n",
        "n_input = X_train.shape[1]  # 30 features in the dataset\n",
        "n_hidden = 10               # Number of neurons in hidden layer (you can adjust this)\n",
        "n_output = 1                # Output is binary (Malignant or Benign)\n",
        "\n",
        "# Initialize weights and biases\n",
        "weights_input_hidden = np.random.randn(n_input, n_hidden)\n",
        "bias_hidden = np.random.randn(n_hidden)\n",
        "\n",
        "weights_hidden_output = np.random.randn(n_hidden, n_output)\n",
        "bias_output = np.random.randn(n_output)\n",
        "\n",
        "print(f\"Initial weights and biases initialized\")\n"
      ],
      "metadata": {
        "colab": {
          "base_uri": "https://localhost:8080/"
        },
        "id": "0oNWRIVTXT-b",
        "outputId": "1652fc5d-4ba6-4af7-ad65-da718ff4add9"
      },
      "execution_count": null,
      "outputs": [
        {
          "output_type": "stream",
          "name": "stdout",
          "text": [
            "Initial weights and biases initialized\n"
          ]
        }
      ]
    },
    {
      "cell_type": "markdown",
      "source": [
        "### 2. Activation Function\n",
        "The sigmoid activation function is used:\n",
        "\n",
        "$\\sigma(z) = \\frac{1}{1 + e^{-z}}$\n"
      ],
      "metadata": {
        "id": "MAamzTaqzdxq"
      }
    },
    {
      "cell_type": "code",
      "source": [
        "import numpy as np\n",
        "import math\n",
        "\n",
        "def sigmoid(z):\n",
        "    # Clip the values of z to prevent overflow in exp\n",
        "    z = np.clip(z, -500, 500)\n",
        "    # Ensure z is a NumPy array\n",
        "    z = np.array(z, dtype=np.float64)  # Convert z to a NumPy array if it's not\n",
        "    return 1 / (1 + np.exp(-z))\n",
        "\n",
        "#Rest of your functions remain the same"
      ],
      "metadata": {
        "id": "uC_odHfsXsCl"
      },
      "execution_count": null,
      "outputs": []
    },
    {
      "cell_type": "code",
      "source": [
        "# Forward propagation\n",
        "def forward_propagation(X, weights_input_hidden, bias_hidden, weights_hidden_output, bias_output):\n",
        "    # Hidden layer computations\n",
        "    hidden_layer_input = np.dot(X, weights_input_hidden) + bias_hidden\n",
        "    hidden_layer_output = sigmoid(hidden_layer_input)\n",
        "\n",
        "    # Output layer computations\n",
        "    output_layer_input = np.dot(hidden_layer_output, weights_hidden_output) + bias_output\n",
        "    output_layer_output = sigmoid(output_layer_input)\n",
        "\n",
        "    return output_layer_output\n"
      ],
      "metadata": {
        "id": "y1qPng1fXvKd"
      },
      "execution_count": null,
      "outputs": []
    },
    {
      "cell_type": "markdown",
      "source": [
        "### 3. Error Calculation\n",
        "Error is computed using the formula:\n",
        "\n",
        "$Error = \\frac{1}{2} \\times (actual\\ output - computed\\ output)^2$\n",
        "\n",
        "where the computed output is $\\sigma(z)$."
      ],
      "metadata": {
        "id": "KD2Y5kBMzlcE"
      }
    },
    {
      "cell_type": "code",
      "source": [
        "def calculate_error(y_pred, y_true):\n",
        "    return 0.5 * np.square(y_pred - y_true).mean()\n"
      ],
      "metadata": {
        "id": "ZAtHETfjXynx"
      },
      "execution_count": null,
      "outputs": []
    },
    {
      "cell_type": "code",
      "source": [
        "def backpropagation(X, y_true, weights_input_hidden, bias_hidden, weights_hidden_output, bias_output, learning_rate):\n",
        "    X = X.astype(np.float64)\n",
        "    # Forward pass\n",
        "    z_hidden = np.dot(X, weights_input_hidden) + bias_hidden\n",
        "    a_hidden = sigmoid(z_hidden)\n",
        "\n",
        "    z_output = np.dot(a_hidden, weights_hidden_output) + bias_output\n",
        "    a_output = sigmoid(z_output)\n",
        "\n",
        "    # Error derivative for output layer\n",
        "    error_output = a_output - y_true\n",
        "    delta_output = error_output * a_output * (1 - a_output)\n",
        "\n",
        "    # Error derivative for hidden layer\n",
        "    error_hidden = np.dot(delta_output, weights_hidden_output.T)\n",
        "    delta_hidden = error_hidden * a_hidden * (1 - a_hidden)\n",
        "\n",
        "    # Gradient descent weight update\n",
        "    weights_hidden_output -= learning_rate * np.dot(a_hidden.T, delta_output)\n",
        "    bias_output -= learning_rate * delta_output.mean(axis=0)\n",
        "\n",
        "    weights_input_hidden -= learning_rate * np.dot(X.T, delta_hidden)\n",
        "    bias_hidden -= learning_rate * delta_hidden.mean(axis=0)\n",
        "\n",
        "    return weights_input_hidden, bias_hidden, weights_hidden_output, bias_output\n"
      ],
      "metadata": {
        "id": "fiUFxLP9X1zM"
      },
      "execution_count": null,
      "outputs": []
    },
    {
      "cell_type": "markdown",
      "source": [
        "### 4. Hyperparameters\n",
        "- Learning rate: $\\eta = 0.001$"
      ],
      "metadata": {
        "id": "WneNpOVpzzfb"
      }
    },
    {
      "cell_type": "code",
      "source": [
        "learning_rate = 0.001\n",
        "epochs = 1000\n",
        "errors = []\n",
        "\n",
        "for epoch in range(epochs):\n",
        "    # Forward propagation\n",
        "    y_pred = forward_propagation(X_train, weights_input_hidden, bias_hidden, weights_hidden_output, bias_output)\n",
        "\n",
        "    # Error calculation\n",
        "    error = calculate_error(y_pred, y_train.values.reshape(-1, 1))\n",
        "    errors.append(error)\n",
        "\n",
        "    # Backpropagation\n",
        "    weights_input_hidden, bias_hidden, weights_hidden_output, bias_output = backpropagation(\n",
        "        X_train, y_train.values.reshape(-1, 1),\n",
        "        weights_input_hidden, bias_hidden,\n",
        "        weights_hidden_output, bias_output,\n",
        "        learning_rate\n",
        "    )\n",
        "\n",
        "    if epoch % 100 == 0:\n",
        "        print(f'Epoch {epoch}, Error: {error}')\n"
      ],
      "metadata": {
        "colab": {
          "base_uri": "https://localhost:8080/"
        },
        "id": "hF-4hDzFX7L8",
        "outputId": "edcd57f5-e47d-4fa6-94c0-4094bdc1a822"
      },
      "execution_count": null,
      "outputs": [
        {
          "output_type": "stream",
          "name": "stdout",
          "text": [
            "Epoch 0, Error: 0.1766129825611707\n",
            "Epoch 100, Error: 0.11948235044258178\n",
            "Epoch 200, Error: 0.1096830331871558\n",
            "Epoch 300, Error: 0.10502176447771176\n",
            "Epoch 400, Error: 0.10152105312771062\n",
            "Epoch 500, Error: 0.09865723513282937\n",
            "Epoch 600, Error: 0.09628315859530252\n",
            "Epoch 700, Error: 0.09428814423171422\n",
            "Epoch 800, Error: 0.09257962279451155\n",
            "Epoch 900, Error: 0.09108679655040298\n"
          ]
        }
      ]
    },
    {
      "cell_type": "code",
      "source": [
        "import matplotlib.pyplot as plt\n",
        "\n",
        "plt.plot(errors)\n",
        "plt.xlabel('Epochs')\n",
        "plt.ylabel('Error')\n",
        "plt.title('Error vs Epochs')\n",
        "plt.show()\n"
      ],
      "metadata": {
        "colab": {
          "base_uri": "https://localhost:8080/",
          "height": 472
        },
        "id": "1ur_gBUMYWSM",
        "outputId": "122901ae-0474-445e-a4aa-bc3bb7da7971"
      },
      "execution_count": null,
      "outputs": [
        {
          "output_type": "display_data",
          "data": {
            "text/plain": [
              "<Figure size 640x480 with 1 Axes>"
            ],
            "image/png": "[encoded data removed]"
          },
          "metadata": {}
        }
      ]
    },
    {
      "cell_type": "code",
      "source": [
        "from sklearn.metrics import confusion_matrix, accuracy_score\n",
        "\n",
        "# Make predictions on the test set\n",
        "y_test_pred = forward_propagation(X_test, weights_input_hidden, bias_hidden, weights_hidden_output, bias_output)\n",
        "y_test_pred = (y_test_pred > 0.5).astype(int)\n",
        "\n",
        "# Confusion matrix\n",
        "conf_matrix = confusion_matrix(y_test, y_test_pred)\n",
        "accuracy = accuracy_score(y_test, y_test_pred)\n",
        "\n",
        "print('Confusion Matrix:\\n', conf_matrix)\n",
        "print('Accuracy:', accuracy)\n"
      ],
      "metadata": {
        "colab": {
          "base_uri": "https://localhost:8080/"
        },
        "id": "nCHgfQwxYdzR",
        "outputId": "3aa6faf8-3077-4004-c900-84f3a796be48"
      },
      "execution_count": null,
      "outputs": [
        {
          "output_type": "stream",
          "name": "stdout",
          "text": [
            "Confusion Matrix:\n",
            " [[55  1]\n",
            " [28  0]]\n",
            "Accuracy: 0.6547619047619048\n"
          ]
        }
      ]
    },
    {
      "cell_type": "code",
      "source": [
        "from sklearn.model_selection import KFold\n",
        "\n",
        "# Define KFold with 5 splits\n",
        "kf = KFold(n_splits=5, shuffle=True, random_state=42)\n",
        "\n",
        "# Store cross-validation results\n",
        "cv_errors = []\n",
        "cv_accuracies = []\n",
        "\n",
        "# Perform cross-validation\n",
        "for train_index, test_index in kf.split(X):\n",
        "    X_train_cv, X_test_cv = X.iloc[train_index], X.iloc[test_index]\n",
        "    y_train_cv, y_test_cv = y.iloc[train_index], y.iloc[test_index]\n",
        "\n",
        "    # Initialize weights and biases for each fold\n",
        "    weights_input_hidden = np.random.randn(n_input, n_hidden)\n",
        "    bias_hidden = np.random.randn(n_hidden)\n",
        "\n",
        "    weights_hidden_output = np.random.randn(n_hidden, n_output)\n",
        "    bias_output = np.random.randn(n_output)\n",
        "\n",
        "    # Train the model for a set number of epochs\n",
        "    for epoch in range(epochs):\n",
        "        # Forward propagation\n",
        "        y_pred_cv = forward_propagation(X_train_cv, weights_input_hidden, bias_hidden, weights_hidden_output, bias_output)\n",
        "\n",
        "        # Backpropagation and weight updates\n",
        "        weights_input_hidden, bias_hidden, weights_hidden_output, bias_output = backpropagation(\n",
        "            X_train_cv, y_train_cv.values.reshape(-1, 1),\n",
        "            weights_input_hidden, bias_hidden,\n",
        "            weights_hidden_output, bias_output,\n",
        "            learning_rate\n",
        "        )\n",
        "\n",
        "    # Predict on the validation fold\n",
        "    y_test_pred_cv = forward_propagation(X_test_cv, weights_input_hidden, bias_hidden, weights_hidden_output, bias_output)\n",
        "    y_test_pred_cv = (y_test_pred_cv > 0.5).astype(int)\n",
        "\n",
        "    # Calculate error and accuracy for this fold\n",
        "    error_cv = calculate_error(y_test_pred_cv, y_test_cv.values.reshape(-1, 1))\n",
        "    accuracy_cv = accuracy_score(y_test_cv, y_test_pred_cv)\n",
        "\n",
        "    # Store results\n",
        "    cv_errors.append(error_cv)\n",
        "    cv_accuracies.append(accuracy_cv)\n",
        "\n",
        "# Print cross-validation results\n",
        "print(f'Cross-Validation Errors: {cv_errors}')\n",
        "print(f'Cross-Validation Accuracies: {cv_accuracies}')\n",
        "print(f'Mean Error: {np.mean(cv_errors)}')\n",
        "print(f'Mean Accuracy: {np.mean(cv_accuracies)}')\n"
      ],
      "metadata": {
        "colab": {
          "base_uri": "https://localhost:8080/"
        },
        "id": "R43rrwXSZVqH",
        "outputId": "b06fc16f-8f5a-4542-b412-ec906e708f2e"
      },
      "execution_count": null,
      "outputs": [
        {
          "output_type": "stream",
          "name": "stdout",
          "text": [
            "Cross-Validation Errors: [0.19642857142857142, 0.125, 0.15454545454545454, 0.13636363636363635, 0.14545454545454545]\n",
            "Cross-Validation Accuracies: [0.6071428571428571, 0.75, 0.6909090909090909, 0.7272727272727273, 0.7090909090909091]\n",
            "Mean Error: 0.15155844155844153\n",
            "Mean Accuracy: 0.6968831168831169\n"
          ]
        }
      ]
    },
    {
      "cell_type": "code",
      "source": [
        "from sklearn.metrics import confusion_matrix, accuracy_score\n",
        "\n",
        "# After training with cross-validation, make predictions on the test set\n",
        "y_test_pred = forward_propagation(X_test, weights_input_hidden, bias_hidden, weights_hidden_output, bias_output)\n",
        "y_test_pred = (y_test_pred > 0.5).astype(int)\n",
        "\n",
        "# Calculate confusion matrix and accuracy\n",
        "conf_matrix = confusion_matrix(y_test, y_test_pred)\n",
        "accuracy = accuracy_score(y_test, y_test_pred)\n",
        "\n",
        "# Print confusion matrix and accuracy\n",
        "print('Confusion Matrix:')\n",
        "print(conf_matrix)\n",
        "print(f'Accuracy: {accuracy * 100:.2f}%')\n"
      ],
      "metadata": {
        "id": "apmIlN9XZblL",
        "outputId": "5ef6ab72-e625-4c32-c4c1-7b927f4c9620",
        "colab": {
          "base_uri": "https://localhost:8080/"
        }
      },
      "execution_count": null,
      "outputs": [
        {
          "output_type": "stream",
          "name": "stdout",
          "text": [
            "Confusion Matrix:\n",
            "[[56  0]\n",
            " [27  1]]\n",
            "Accuracy: 67.86%\n"
          ]
        }
      ]
    }
  ]
}